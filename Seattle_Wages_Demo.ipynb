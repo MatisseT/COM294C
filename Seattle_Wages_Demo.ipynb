{
 "cells": [
  {
   "cell_type": "markdown",
   "metadata": {},
   "source": [
    "# Seattle Salary Breakdown"
   ]
  },
  {
   "cell_type": "code",
   "execution_count": 1,
   "metadata": {},
   "outputs": [],
   "source": [
    "# Data sourced from -- https://data.seattle.gov/\n",
    "# URL - https://data.seattle.gov/City-Business/City-of-Seattle-Wage-Data/2khk-5ukd"
   ]
  },
  {
   "cell_type": "markdown",
   "metadata": {},
   "source": [
    "## Imports"
   ]
  },
  {
   "cell_type": "markdown",
   "metadata": {},
   "source": [
    "##### Import dependencies (Python Libraries)"
   ]
  },
  {
   "cell_type": "code",
   "execution_count": 2,
   "metadata": {},
   "outputs": [],
   "source": [
    "import pandas as pd"
   ]
  },
  {
   "cell_type": "markdown",
   "metadata": {},
   "source": [
    "##### Read in the dataset"
   ]
  },
  {
   "cell_type": "code",
   "execution_count": 5,
   "metadata": {},
   "outputs": [],
   "source": [
    "wages = pd.read_csv('Seattle_Wages_Data.csv')"
   ]
  },
  {
   "cell_type": "markdown",
   "metadata": {},
   "source": [
    "## Descriptive Stats"
   ]
  },
  {
   "cell_type": "markdown",
   "metadata": {},
   "source": [
    "##### Run basics descriptive statistics -- use the following methods:\n",
    "##### 1. shape, 2. describe, 3. info, 4. columns"
   ]
  },
  {
   "cell_type": "code",
   "execution_count": 7,
   "metadata": {},
   "outputs": [
    {
     "data": {
      "text/plain": [
       "(12346, 5)"
      ]
     },
     "execution_count": 7,
     "metadata": {},
     "output_type": "execute_result"
    }
   ],
   "source": [
    "wages.shape"
   ]
  },
  {
   "cell_type": "code",
   "execution_count": 9,
   "metadata": {},
   "outputs": [
    {
     "data": {
      "text/html": [
       "<div>\n",
       "<style scoped>\n",
       "    .dataframe tbody tr th:only-of-type {\n",
       "        vertical-align: middle;\n",
       "    }\n",
       "\n",
       "    .dataframe tbody tr th {\n",
       "        vertical-align: top;\n",
       "    }\n",
       "\n",
       "    .dataframe thead th {\n",
       "        text-align: right;\n",
       "    }\n",
       "</style>\n",
       "<table border=\"1\" class=\"dataframe\">\n",
       "  <thead>\n",
       "    <tr style=\"text-align: right;\">\n",
       "      <th></th>\n",
       "      <th>Hourly Rate</th>\n",
       "    </tr>\n",
       "  </thead>\n",
       "  <tbody>\n",
       "    <tr>\n",
       "      <th>count</th>\n",
       "      <td>12346.000000</td>\n",
       "    </tr>\n",
       "    <tr>\n",
       "      <th>mean</th>\n",
       "      <td>38.974306</td>\n",
       "    </tr>\n",
       "    <tr>\n",
       "      <th>std</th>\n",
       "      <td>13.724498</td>\n",
       "    </tr>\n",
       "    <tr>\n",
       "      <th>min</th>\n",
       "      <td>5.110000</td>\n",
       "    </tr>\n",
       "    <tr>\n",
       "      <th>25%</th>\n",
       "      <td>28.830000</td>\n",
       "    </tr>\n",
       "    <tr>\n",
       "      <th>50%</th>\n",
       "      <td>38.850000</td>\n",
       "    </tr>\n",
       "    <tr>\n",
       "      <th>75%</th>\n",
       "      <td>48.430000</td>\n",
       "    </tr>\n",
       "    <tr>\n",
       "      <th>max</th>\n",
       "      <td>166.910000</td>\n",
       "    </tr>\n",
       "  </tbody>\n",
       "</table>\n",
       "</div>"
      ],
      "text/plain": [
       "       Hourly Rate \n",
       "count  12346.000000\n",
       "mean      38.974306\n",
       "std       13.724498\n",
       "min        5.110000\n",
       "25%       28.830000\n",
       "50%       38.850000\n",
       "75%       48.430000\n",
       "max      166.910000"
      ]
     },
     "execution_count": 9,
     "metadata": {},
     "output_type": "execute_result"
    }
   ],
   "source": [
    "wages.describe()"
   ]
  },
  {
   "cell_type": "code",
   "execution_count": 10,
   "metadata": {},
   "outputs": [
    {
     "name": "stdout",
     "output_type": "stream",
     "text": [
      "<class 'pandas.core.frame.DataFrame'>\n",
      "RangeIndex: 12346 entries, 0 to 12345\n",
      "Data columns (total 5 columns):\n",
      "Department      12346 non-null object\n",
      "Last Name       12346 non-null object\n",
      "First Name      12346 non-null object\n",
      "Job Title       12346 non-null object\n",
      "Hourly Rate     12346 non-null float64\n",
      "dtypes: float64(1), object(4)\n",
      "memory usage: 482.3+ KB\n"
     ]
    }
   ],
   "source": [
    "wages.info()"
   ]
  },
  {
   "cell_type": "code",
   "execution_count": 11,
   "metadata": {},
   "outputs": [
    {
     "data": {
      "text/plain": [
       "Index(['Department', 'Last Name', 'First Name', 'Job Title', 'Hourly Rate '], dtype='object')"
      ]
     },
     "execution_count": 11,
     "metadata": {},
     "output_type": "execute_result"
    }
   ],
   "source": [
    "wages.columns"
   ]
  },
  {
   "cell_type": "markdown",
   "metadata": {},
   "source": [
    "##### Let's visualize our dataset -- use the following methods:\n",
    "##### 1. head, 2. tail"
   ]
  },
  {
   "cell_type": "code",
   "execution_count": null,
   "metadata": {},
   "outputs": [],
   "source": [
    "wages.head()"
   ]
  },
  {
   "cell_type": "code",
   "execution_count": null,
   "metadata": {},
   "outputs": [],
   "source": [
    "wages.tail()"
   ]
  },
  {
   "cell_type": "markdown",
   "metadata": {},
   "source": [
    "## Indexing"
   ]
  },
  {
   "cell_type": "markdown",
   "metadata": {},
   "source": [
    "### Question -- Who earns the most per hour?"
   ]
  },
  {
   "cell_type": "markdown",
   "metadata": {},
   "source": [
    "##### Index for the Hour Rate column and find the max. Save the output to a variable."
   ]
  },
  {
   "cell_type": "code",
   "execution_count": 43,
   "metadata": {},
   "outputs": [],
   "source": [
    "highest_wage = wages['Hourly Rate '].max()"
   ]
  },
  {
   "cell_type": "markdown",
   "metadata": {},
   "source": [
    "##### Let's try boolean indexing"
   ]
  },
  {
   "cell_type": "code",
   "execution_count": 44,
   "metadata": {},
   "outputs": [
    {
     "data": {
      "text/html": [
       "<div>\n",
       "<style scoped>\n",
       "    .dataframe tbody tr th:only-of-type {\n",
       "        vertical-align: middle;\n",
       "    }\n",
       "\n",
       "    .dataframe tbody tr th {\n",
       "        vertical-align: top;\n",
       "    }\n",
       "\n",
       "    .dataframe thead th {\n",
       "        text-align: right;\n",
       "    }\n",
       "</style>\n",
       "<table border=\"1\" class=\"dataframe\">\n",
       "  <thead>\n",
       "    <tr style=\"text-align: right;\">\n",
       "      <th></th>\n",
       "      <th>Department</th>\n",
       "      <th>Last Name</th>\n",
       "      <th>First Name</th>\n",
       "      <th>Job Title</th>\n",
       "      <th>Hourly Rate</th>\n",
       "    </tr>\n",
       "  </thead>\n",
       "  <tbody>\n",
       "    <tr>\n",
       "      <th>1879</th>\n",
       "      <td>City Light</td>\n",
       "      <td>Weis</td>\n",
       "      <td>Larry</td>\n",
       "      <td>City Light General Mgr&amp;CEO</td>\n",
       "      <td>166.91</td>\n",
       "    </tr>\n",
       "  </tbody>\n",
       "</table>\n",
       "</div>"
      ],
      "text/plain": [
       "      Department Last Name First Name                   Job Title  \\\n",
       "1879  City Light      Weis      Larry  City Light General Mgr&CEO   \n",
       "\n",
       "      Hourly Rate   \n",
       "1879        166.91  "
      ]
     },
     "execution_count": 44,
     "metadata": {},
     "output_type": "execute_result"
    }
   ],
   "source": [
    "wages[wages['Hourly Rate '] == highest_wage]"
   ]
  },
  {
   "cell_type": "markdown",
   "metadata": {},
   "source": [
    "### Question -- How many people work for City Light?"
   ]
  },
  {
   "cell_type": "markdown",
   "metadata": {},
   "source": [
    "##### Use boolean indexing to find all employees that work for City Light. Save that output (dataframe) to a variable called 'City_Light_employees'."
   ]
  },
  {
   "cell_type": "code",
   "execution_count": 28,
   "metadata": {},
   "outputs": [],
   "source": [
    "City_Light_employees = wages[wages['Department'] == 'City Light']"
   ]
  },
  {
   "cell_type": "code",
   "execution_count": 29,
   "metadata": {},
   "outputs": [
    {
     "data": {
      "text/html": [
       "<div>\n",
       "<style scoped>\n",
       "    .dataframe tbody tr th:only-of-type {\n",
       "        vertical-align: middle;\n",
       "    }\n",
       "\n",
       "    .dataframe tbody tr th {\n",
       "        vertical-align: top;\n",
       "    }\n",
       "\n",
       "    .dataframe thead th {\n",
       "        text-align: right;\n",
       "    }\n",
       "</style>\n",
       "<table border=\"1\" class=\"dataframe\">\n",
       "  <thead>\n",
       "    <tr style=\"text-align: right;\">\n",
       "      <th></th>\n",
       "      <th>Department</th>\n",
       "      <th>Last Name</th>\n",
       "      <th>First Name</th>\n",
       "      <th>Job Title</th>\n",
       "      <th>Hourly Rate</th>\n",
       "    </tr>\n",
       "  </thead>\n",
       "  <tbody>\n",
       "    <tr>\n",
       "      <th>117</th>\n",
       "      <td>City Light</td>\n",
       "      <td>Abbott</td>\n",
       "      <td>Jeremy</td>\n",
       "      <td>Cblspl-Net Area</td>\n",
       "      <td>44.92</td>\n",
       "    </tr>\n",
       "    <tr>\n",
       "      <th>118</th>\n",
       "      <td>City Light</td>\n",
       "      <td>Abel</td>\n",
       "      <td>Deborah</td>\n",
       "      <td>Maint Laborer</td>\n",
       "      <td>25.39</td>\n",
       "    </tr>\n",
       "    <tr>\n",
       "      <th>119</th>\n",
       "      <td>City Light</td>\n",
       "      <td>Ablow</td>\n",
       "      <td>Elizabeth</td>\n",
       "      <td>StratAdvsr2,Utils-BU</td>\n",
       "      <td>49.54</td>\n",
       "    </tr>\n",
       "    <tr>\n",
       "      <th>120</th>\n",
       "      <td>City Light</td>\n",
       "      <td>Abraham</td>\n",
       "      <td>Jay</td>\n",
       "      <td>Hydroelec Maint Mach</td>\n",
       "      <td>42.54</td>\n",
       "    </tr>\n",
       "    <tr>\n",
       "      <th>121</th>\n",
       "      <td>City Light</td>\n",
       "      <td>Abraham</td>\n",
       "      <td>John</td>\n",
       "      <td>Sfty&amp;Hlth Spec,Sr</td>\n",
       "      <td>45.87</td>\n",
       "    </tr>\n",
       "    <tr>\n",
       "      <th>122</th>\n",
       "      <td>City Light</td>\n",
       "      <td>Abt</td>\n",
       "      <td>John</td>\n",
       "      <td>Cblspl-Net Area</td>\n",
       "      <td>44.92</td>\n",
       "    </tr>\n",
       "    <tr>\n",
       "      <th>123</th>\n",
       "      <td>City Light</td>\n",
       "      <td>Adams</td>\n",
       "      <td>Courtney</td>\n",
       "      <td>Capital Prjts Coord,Asst *</td>\n",
       "      <td>37.16</td>\n",
       "    </tr>\n",
       "    <tr>\n",
       "      <th>124</th>\n",
       "      <td>City Light</td>\n",
       "      <td>Adams</td>\n",
       "      <td>Jason</td>\n",
       "      <td>Mgmt Systs Anlyst,Sr</td>\n",
       "      <td>45.11</td>\n",
       "    </tr>\n",
       "    <tr>\n",
       "      <th>125</th>\n",
       "      <td>City Light</td>\n",
       "      <td>Adams</td>\n",
       "      <td>Shelly</td>\n",
       "      <td>Envrnmtl Anlyst,Sr</td>\n",
       "      <td>48.44</td>\n",
       "    </tr>\n",
       "    <tr>\n",
       "      <th>126</th>\n",
       "      <td>City Light</td>\n",
       "      <td>Adams</td>\n",
       "      <td>Solomon</td>\n",
       "      <td>Lnwkr</td>\n",
       "      <td>46.27</td>\n",
       "    </tr>\n",
       "    <tr>\n",
       "      <th>127</th>\n",
       "      <td>City Light</td>\n",
       "      <td>Adkinson</td>\n",
       "      <td>Kevin</td>\n",
       "      <td>Hydroelec Maint Mach</td>\n",
       "      <td>44.31</td>\n",
       "    </tr>\n",
       "    <tr>\n",
       "      <th>128</th>\n",
       "      <td>City Light</td>\n",
       "      <td>Adler</td>\n",
       "      <td>Susan</td>\n",
       "      <td>Elecl Engrng Spec,Sr</td>\n",
       "      <td>48.84</td>\n",
       "    </tr>\n",
       "    <tr>\n",
       "      <th>129</th>\n",
       "      <td>City Light</td>\n",
       "      <td>Ahn</td>\n",
       "      <td>Jeanie</td>\n",
       "      <td>Economist</td>\n",
       "      <td>41.57</td>\n",
       "    </tr>\n",
       "    <tr>\n",
       "      <th>130</th>\n",
       "      <td>City Light</td>\n",
       "      <td>Airhart</td>\n",
       "      <td>Jami</td>\n",
       "      <td>Cust Svc Rep</td>\n",
       "      <td>26.75</td>\n",
       "    </tr>\n",
       "    <tr>\n",
       "      <th>131</th>\n",
       "      <td>City Light</td>\n",
       "      <td>Albergine</td>\n",
       "      <td>David</td>\n",
       "      <td>StratAdvsr2,Utils-BU</td>\n",
       "      <td>55.55</td>\n",
       "    </tr>\n",
       "    <tr>\n",
       "      <th>132</th>\n",
       "      <td>City Light</td>\n",
       "      <td>Aldridge</td>\n",
       "      <td>Cynthia</td>\n",
       "      <td>Camp Svc Aide,Sr</td>\n",
       "      <td>21.49</td>\n",
       "    </tr>\n",
       "    <tr>\n",
       "      <th>133</th>\n",
       "      <td>City Light</td>\n",
       "      <td>Aldridge</td>\n",
       "      <td>Joey</td>\n",
       "      <td>Pwr Structs Mechanic</td>\n",
       "      <td>39.18</td>\n",
       "    </tr>\n",
       "    <tr>\n",
       "      <th>134</th>\n",
       "      <td>City Light</td>\n",
       "      <td>Alexander</td>\n",
       "      <td>Brynne</td>\n",
       "      <td>Student Engr Intern *</td>\n",
       "      <td>21.03</td>\n",
       "    </tr>\n",
       "    <tr>\n",
       "      <th>135</th>\n",
       "      <td>City Light</td>\n",
       "      <td>Alexander</td>\n",
       "      <td>James</td>\n",
       "      <td>Line C CC</td>\n",
       "      <td>52.06</td>\n",
       "    </tr>\n",
       "    <tr>\n",
       "      <th>136</th>\n",
       "      <td>City Light</td>\n",
       "      <td>Alexander</td>\n",
       "      <td>Katrina</td>\n",
       "      <td>Elecl Engr,Assoc</td>\n",
       "      <td>45.92</td>\n",
       "    </tr>\n",
       "    <tr>\n",
       "      <th>137</th>\n",
       "      <td>City Light</td>\n",
       "      <td>Alexander</td>\n",
       "      <td>Richard</td>\n",
       "      <td>Lnwkr</td>\n",
       "      <td>46.27</td>\n",
       "    </tr>\n",
       "    <tr>\n",
       "      <th>138</th>\n",
       "      <td>City Light</td>\n",
       "      <td>Ali</td>\n",
       "      <td>Mohamed</td>\n",
       "      <td>Elecl Engrng Spec,Sr</td>\n",
       "      <td>45.36</td>\n",
       "    </tr>\n",
       "    <tr>\n",
       "      <th>139</th>\n",
       "      <td>City Light</td>\n",
       "      <td>Aliment</td>\n",
       "      <td>Dean</td>\n",
       "      <td>Strucl Iron Wkr</td>\n",
       "      <td>44.92</td>\n",
       "    </tr>\n",
       "    <tr>\n",
       "      <th>140</th>\n",
       "      <td>City Light</td>\n",
       "      <td>Allen</td>\n",
       "      <td>Cecil</td>\n",
       "      <td>Arboriculturist</td>\n",
       "      <td>34.48</td>\n",
       "    </tr>\n",
       "    <tr>\n",
       "      <th>141</th>\n",
       "      <td>City Light</td>\n",
       "      <td>Allen</td>\n",
       "      <td>Ronald</td>\n",
       "      <td>Lnwkr</td>\n",
       "      <td>46.27</td>\n",
       "    </tr>\n",
       "    <tr>\n",
       "      <th>142</th>\n",
       "      <td>City Light</td>\n",
       "      <td>Allen</td>\n",
       "      <td>Shane</td>\n",
       "      <td>Lnwkr-Asg Pwrline Clearance</td>\n",
       "      <td>49.65</td>\n",
       "    </tr>\n",
       "    <tr>\n",
       "      <th>143</th>\n",
       "      <td>City Light</td>\n",
       "      <td>Allen III</td>\n",
       "      <td>Grant</td>\n",
       "      <td>Elecl Constr&amp;Maint Supv-BU</td>\n",
       "      <td>59.75</td>\n",
       "    </tr>\n",
       "    <tr>\n",
       "      <th>144</th>\n",
       "      <td>City Light</td>\n",
       "      <td>Allie</td>\n",
       "      <td>Dora</td>\n",
       "      <td>Manager1,P&amp;FM-BU</td>\n",
       "      <td>53.64</td>\n",
       "    </tr>\n",
       "    <tr>\n",
       "      <th>145</th>\n",
       "      <td>City Light</td>\n",
       "      <td>Allie</td>\n",
       "      <td>Jacob</td>\n",
       "      <td>Admin Spec I-BU *</td>\n",
       "      <td>22.77</td>\n",
       "    </tr>\n",
       "    <tr>\n",
       "      <th>146</th>\n",
       "      <td>City Light</td>\n",
       "      <td>Alpers</td>\n",
       "      <td>Hagen</td>\n",
       "      <td>MatSup,Elec-Asg Cs &amp;/or Cdt</td>\n",
       "      <td>33.90</td>\n",
       "    </tr>\n",
       "    <tr>\n",
       "      <th>...</th>\n",
       "      <td>...</td>\n",
       "      <td>...</td>\n",
       "      <td>...</td>\n",
       "      <td>...</td>\n",
       "      <td>...</td>\n",
       "    </tr>\n",
       "    <tr>\n",
       "      <th>1937</th>\n",
       "      <td>City Light</td>\n",
       "      <td>Yamamoto</td>\n",
       "      <td>Kaitlyn</td>\n",
       "      <td>Cooperative Intern *</td>\n",
       "      <td>16.12</td>\n",
       "    </tr>\n",
       "    <tr>\n",
       "      <th>1938</th>\n",
       "      <td>City Light</td>\n",
       "      <td>Yanase</td>\n",
       "      <td>Mie</td>\n",
       "      <td>Res&amp;Eval Asst-BU</td>\n",
       "      <td>31.93</td>\n",
       "    </tr>\n",
       "    <tr>\n",
       "      <th>1939</th>\n",
       "      <td>City Light</td>\n",
       "      <td>Yang Abreu</td>\n",
       "      <td>Joanna</td>\n",
       "      <td>Student Engr Intern *</td>\n",
       "      <td>21.03</td>\n",
       "    </tr>\n",
       "    <tr>\n",
       "      <th>1940</th>\n",
       "      <td>City Light</td>\n",
       "      <td>Ybarra</td>\n",
       "      <td>Arthur</td>\n",
       "      <td>Lnwkr</td>\n",
       "      <td>46.27</td>\n",
       "    </tr>\n",
       "    <tr>\n",
       "      <th>1941</th>\n",
       "      <td>City Light</td>\n",
       "      <td>Yi</td>\n",
       "      <td>Michael</td>\n",
       "      <td>Cblspl-Asg Locator</td>\n",
       "      <td>44.92</td>\n",
       "    </tr>\n",
       "    <tr>\n",
       "      <th>1942</th>\n",
       "      <td>City Light</td>\n",
       "      <td>Yi</td>\n",
       "      <td>William</td>\n",
       "      <td>Mgmt Systs Anlyst *</td>\n",
       "      <td>35.16</td>\n",
       "    </tr>\n",
       "    <tr>\n",
       "      <th>1943</th>\n",
       "      <td>City Light</td>\n",
       "      <td>Yoder-Williams</td>\n",
       "      <td>Mary</td>\n",
       "      <td>StratAdvsr2,Utils-BU</td>\n",
       "      <td>50.51</td>\n",
       "    </tr>\n",
       "    <tr>\n",
       "      <th>1944</th>\n",
       "      <td>City Light</td>\n",
       "      <td>Yogeswaran</td>\n",
       "      <td>Nadarajah</td>\n",
       "      <td>Laborer-Inserting Machine Op</td>\n",
       "      <td>22.95</td>\n",
       "    </tr>\n",
       "    <tr>\n",
       "      <th>1945</th>\n",
       "      <td>City Light</td>\n",
       "      <td>Yoo</td>\n",
       "      <td>Ha</td>\n",
       "      <td>Cooperative Intern *</td>\n",
       "      <td>16.12</td>\n",
       "    </tr>\n",
       "    <tr>\n",
       "      <th>1946</th>\n",
       "      <td>City Light</td>\n",
       "      <td>York</td>\n",
       "      <td>Robert</td>\n",
       "      <td>Cblspl CC-Net Area</td>\n",
       "      <td>50.54</td>\n",
       "    </tr>\n",
       "    <tr>\n",
       "      <th>1947</th>\n",
       "      <td>City Light</td>\n",
       "      <td>Yousos</td>\n",
       "      <td>Saynop</td>\n",
       "      <td>Admin Spec II-BU</td>\n",
       "      <td>26.45</td>\n",
       "    </tr>\n",
       "    <tr>\n",
       "      <th>1948</th>\n",
       "      <td>City Light</td>\n",
       "      <td>Yslas</td>\n",
       "      <td>Frank</td>\n",
       "      <td>Elctn-Con</td>\n",
       "      <td>44.92</td>\n",
       "    </tr>\n",
       "    <tr>\n",
       "      <th>1949</th>\n",
       "      <td>City Light</td>\n",
       "      <td>Zadehgol</td>\n",
       "      <td>Hamed</td>\n",
       "      <td>Elecl PwrSystsEngr,Prin-Mrt</td>\n",
       "      <td>67.54</td>\n",
       "    </tr>\n",
       "    <tr>\n",
       "      <th>1950</th>\n",
       "      <td>City Light</td>\n",
       "      <td>Zagata</td>\n",
       "      <td>David</td>\n",
       "      <td>Meter Reader *</td>\n",
       "      <td>22.23</td>\n",
       "    </tr>\n",
       "    <tr>\n",
       "      <th>1951</th>\n",
       "      <td>City Light</td>\n",
       "      <td>Zakai</td>\n",
       "      <td>Yochanan</td>\n",
       "      <td>Pwr Anlyst,Sr</td>\n",
       "      <td>45.36</td>\n",
       "    </tr>\n",
       "    <tr>\n",
       "      <th>1952</th>\n",
       "      <td>City Light</td>\n",
       "      <td>Zaren</td>\n",
       "      <td>Anthony</td>\n",
       "      <td>Hydroelec Maint Mach</td>\n",
       "      <td>44.31</td>\n",
       "    </tr>\n",
       "    <tr>\n",
       "      <th>1953</th>\n",
       "      <td>City Light</td>\n",
       "      <td>Zartman</td>\n",
       "      <td>Albert</td>\n",
       "      <td>Maint Laborer</td>\n",
       "      <td>25.39</td>\n",
       "    </tr>\n",
       "    <tr>\n",
       "      <th>1954</th>\n",
       "      <td>City Light</td>\n",
       "      <td>Zegers</td>\n",
       "      <td>Thomas</td>\n",
       "      <td>Lnwkr</td>\n",
       "      <td>46.27</td>\n",
       "    </tr>\n",
       "    <tr>\n",
       "      <th>1955</th>\n",
       "      <td>City Light</td>\n",
       "      <td>Zhang</td>\n",
       "      <td>Jie</td>\n",
       "      <td>Pwr Anlyst,Asst *</td>\n",
       "      <td>32.63</td>\n",
       "    </tr>\n",
       "    <tr>\n",
       "      <th>1956</th>\n",
       "      <td>City Light</td>\n",
       "      <td>Zheng</td>\n",
       "      <td>Griffin</td>\n",
       "      <td>Elecl Pwr Systs Engr</td>\n",
       "      <td>58.35</td>\n",
       "    </tr>\n",
       "    <tr>\n",
       "      <th>1957</th>\n",
       "      <td>City Light</td>\n",
       "      <td>Zhong</td>\n",
       "      <td>Kami</td>\n",
       "      <td>Elecl Engr,Asst II</td>\n",
       "      <td>37.41</td>\n",
       "    </tr>\n",
       "    <tr>\n",
       "      <th>1958</th>\n",
       "      <td>City Light</td>\n",
       "      <td>Zhu</td>\n",
       "      <td>Yiying</td>\n",
       "      <td>Muni Government Intern *</td>\n",
       "      <td>19.76</td>\n",
       "    </tr>\n",
       "    <tr>\n",
       "      <th>1959</th>\n",
       "      <td>City Light</td>\n",
       "      <td>Zhuang</td>\n",
       "      <td>Liman</td>\n",
       "      <td>Elecl PwrSystsEngr,Prin-Mrt</td>\n",
       "      <td>65.21</td>\n",
       "    </tr>\n",
       "    <tr>\n",
       "      <th>1960</th>\n",
       "      <td>City Light</td>\n",
       "      <td>Ziemianek</td>\n",
       "      <td>Bernard</td>\n",
       "      <td>Electric Util Exec 3,Dir</td>\n",
       "      <td>109.58</td>\n",
       "    </tr>\n",
       "    <tr>\n",
       "      <th>1961</th>\n",
       "      <td>City Light</td>\n",
       "      <td>Zimmerly</td>\n",
       "      <td>Elizabeth</td>\n",
       "      <td>Manager2,Utils-BU</td>\n",
       "      <td>49.47</td>\n",
       "    </tr>\n",
       "    <tr>\n",
       "      <th>1962</th>\n",
       "      <td>City Light</td>\n",
       "      <td>Zimmerman</td>\n",
       "      <td>Daniel</td>\n",
       "      <td>Hydro Maint Wkr I-Gen</td>\n",
       "      <td>27.12</td>\n",
       "    </tr>\n",
       "    <tr>\n",
       "      <th>1963</th>\n",
       "      <td>City Light</td>\n",
       "      <td>Zimmerman</td>\n",
       "      <td>Travis</td>\n",
       "      <td>Hydro Maint Wkr I-Gen</td>\n",
       "      <td>27.12</td>\n",
       "    </tr>\n",
       "    <tr>\n",
       "      <th>1964</th>\n",
       "      <td>City Light</td>\n",
       "      <td>Zimmermann</td>\n",
       "      <td>Elliott</td>\n",
       "      <td>Enrgy Mgmt Anlyst,Sr</td>\n",
       "      <td>51.65</td>\n",
       "    </tr>\n",
       "    <tr>\n",
       "      <th>1965</th>\n",
       "      <td>City Light</td>\n",
       "      <td>Zitkovich</td>\n",
       "      <td>Andrew</td>\n",
       "      <td>Rights-Of-Way Maint Wkr</td>\n",
       "      <td>29.88</td>\n",
       "    </tr>\n",
       "    <tr>\n",
       "      <th>1966</th>\n",
       "      <td>City Light</td>\n",
       "      <td>Zook</td>\n",
       "      <td>Katie</td>\n",
       "      <td>Mgmt Systs Anlyst,Asst</td>\n",
       "      <td>31.93</td>\n",
       "    </tr>\n",
       "  </tbody>\n",
       "</table>\n",
       "<p>1850 rows × 5 columns</p>\n",
       "</div>"
      ],
      "text/plain": [
       "      Department       Last Name First Name                     Job Title  \\\n",
       "117   City Light          Abbott     Jeremy               Cblspl-Net Area   \n",
       "118   City Light            Abel    Deborah                 Maint Laborer   \n",
       "119   City Light           Ablow  Elizabeth          StratAdvsr2,Utils-BU   \n",
       "120   City Light         Abraham        Jay          Hydroelec Maint Mach   \n",
       "121   City Light         Abraham       John             Sfty&Hlth Spec,Sr   \n",
       "122   City Light             Abt       John               Cblspl-Net Area   \n",
       "123   City Light           Adams   Courtney    Capital Prjts Coord,Asst *   \n",
       "124   City Light           Adams      Jason          Mgmt Systs Anlyst,Sr   \n",
       "125   City Light           Adams     Shelly            Envrnmtl Anlyst,Sr   \n",
       "126   City Light           Adams    Solomon                         Lnwkr   \n",
       "127   City Light        Adkinson      Kevin          Hydroelec Maint Mach   \n",
       "128   City Light           Adler      Susan          Elecl Engrng Spec,Sr   \n",
       "129   City Light             Ahn     Jeanie                     Economist   \n",
       "130   City Light         Airhart       Jami                  Cust Svc Rep   \n",
       "131   City Light       Albergine      David          StratAdvsr2,Utils-BU   \n",
       "132   City Light        Aldridge    Cynthia              Camp Svc Aide,Sr   \n",
       "133   City Light        Aldridge       Joey          Pwr Structs Mechanic   \n",
       "134   City Light       Alexander     Brynne         Student Engr Intern *   \n",
       "135   City Light       Alexander      James                     Line C CC   \n",
       "136   City Light       Alexander    Katrina              Elecl Engr,Assoc   \n",
       "137   City Light       Alexander    Richard                         Lnwkr   \n",
       "138   City Light             Ali    Mohamed          Elecl Engrng Spec,Sr   \n",
       "139   City Light         Aliment       Dean               Strucl Iron Wkr   \n",
       "140   City Light           Allen      Cecil               Arboriculturist   \n",
       "141   City Light           Allen     Ronald                         Lnwkr   \n",
       "142   City Light           Allen      Shane   Lnwkr-Asg Pwrline Clearance   \n",
       "143   City Light       Allen III      Grant    Elecl Constr&Maint Supv-BU   \n",
       "144   City Light           Allie       Dora              Manager1,P&FM-BU   \n",
       "145   City Light           Allie      Jacob             Admin Spec I-BU *   \n",
       "146   City Light          Alpers      Hagen   MatSup,Elec-Asg Cs &/or Cdt   \n",
       "...          ...             ...        ...                           ...   \n",
       "1937  City Light        Yamamoto    Kaitlyn          Cooperative Intern *   \n",
       "1938  City Light          Yanase        Mie              Res&Eval Asst-BU   \n",
       "1939  City Light      Yang Abreu     Joanna         Student Engr Intern *   \n",
       "1940  City Light          Ybarra     Arthur                         Lnwkr   \n",
       "1941  City Light              Yi    Michael            Cblspl-Asg Locator   \n",
       "1942  City Light              Yi    William           Mgmt Systs Anlyst *   \n",
       "1943  City Light  Yoder-Williams       Mary          StratAdvsr2,Utils-BU   \n",
       "1944  City Light      Yogeswaran  Nadarajah  Laborer-Inserting Machine Op   \n",
       "1945  City Light             Yoo         Ha          Cooperative Intern *   \n",
       "1946  City Light            York     Robert            Cblspl CC-Net Area   \n",
       "1947  City Light          Yousos     Saynop              Admin Spec II-BU   \n",
       "1948  City Light           Yslas      Frank                     Elctn-Con   \n",
       "1949  City Light        Zadehgol      Hamed   Elecl PwrSystsEngr,Prin-Mrt   \n",
       "1950  City Light          Zagata      David                Meter Reader *   \n",
       "1951  City Light           Zakai   Yochanan                 Pwr Anlyst,Sr   \n",
       "1952  City Light           Zaren    Anthony          Hydroelec Maint Mach   \n",
       "1953  City Light         Zartman     Albert                 Maint Laborer   \n",
       "1954  City Light          Zegers     Thomas                         Lnwkr   \n",
       "1955  City Light           Zhang        Jie             Pwr Anlyst,Asst *   \n",
       "1956  City Light           Zheng    Griffin          Elecl Pwr Systs Engr   \n",
       "1957  City Light           Zhong       Kami            Elecl Engr,Asst II   \n",
       "1958  City Light             Zhu     Yiying      Muni Government Intern *   \n",
       "1959  City Light          Zhuang      Liman   Elecl PwrSystsEngr,Prin-Mrt   \n",
       "1960  City Light       Ziemianek    Bernard      Electric Util Exec 3,Dir   \n",
       "1961  City Light        Zimmerly  Elizabeth             Manager2,Utils-BU   \n",
       "1962  City Light       Zimmerman     Daniel         Hydro Maint Wkr I-Gen   \n",
       "1963  City Light       Zimmerman     Travis         Hydro Maint Wkr I-Gen   \n",
       "1964  City Light      Zimmermann    Elliott          Enrgy Mgmt Anlyst,Sr   \n",
       "1965  City Light       Zitkovich     Andrew       Rights-Of-Way Maint Wkr   \n",
       "1966  City Light            Zook      Katie        Mgmt Systs Anlyst,Asst   \n",
       "\n",
       "      Hourly Rate   \n",
       "117          44.92  \n",
       "118          25.39  \n",
       "119          49.54  \n",
       "120          42.54  \n",
       "121          45.87  \n",
       "122          44.92  \n",
       "123          37.16  \n",
       "124          45.11  \n",
       "125          48.44  \n",
       "126          46.27  \n",
       "127          44.31  \n",
       "128          48.84  \n",
       "129          41.57  \n",
       "130          26.75  \n",
       "131          55.55  \n",
       "132          21.49  \n",
       "133          39.18  \n",
       "134          21.03  \n",
       "135          52.06  \n",
       "136          45.92  \n",
       "137          46.27  \n",
       "138          45.36  \n",
       "139          44.92  \n",
       "140          34.48  \n",
       "141          46.27  \n",
       "142          49.65  \n",
       "143          59.75  \n",
       "144          53.64  \n",
       "145          22.77  \n",
       "146          33.90  \n",
       "...            ...  \n",
       "1937         16.12  \n",
       "1938         31.93  \n",
       "1939         21.03  \n",
       "1940         46.27  \n",
       "1941         44.92  \n",
       "1942         35.16  \n",
       "1943         50.51  \n",
       "1944         22.95  \n",
       "1945         16.12  \n",
       "1946         50.54  \n",
       "1947         26.45  \n",
       "1948         44.92  \n",
       "1949         67.54  \n",
       "1950         22.23  \n",
       "1951         45.36  \n",
       "1952         44.31  \n",
       "1953         25.39  \n",
       "1954         46.27  \n",
       "1955         32.63  \n",
       "1956         58.35  \n",
       "1957         37.41  \n",
       "1958         19.76  \n",
       "1959         65.21  \n",
       "1960        109.58  \n",
       "1961         49.47  \n",
       "1962         27.12  \n",
       "1963         27.12  \n",
       "1964         51.65  \n",
       "1965         29.88  \n",
       "1966         31.93  \n",
       "\n",
       "[1850 rows x 5 columns]"
      ]
     },
     "execution_count": 29,
     "metadata": {},
     "output_type": "execute_result"
    }
   ],
   "source": [
    "City_Light_employees"
   ]
  },
  {
   "cell_type": "markdown",
   "metadata": {},
   "source": [
    "##### Apply the describe method to the DataFrame -- 'City_Lights_employees'. Index on 'Job Title'"
   ]
  },
  {
   "cell_type": "code",
   "execution_count": 30,
   "metadata": {},
   "outputs": [
    {
     "data": {
      "text/plain": [
       "count      1850\n",
       "unique      328\n",
       "top       Lnwkr\n",
       "freq        118\n",
       "Name: Job Title, dtype: object"
      ]
     },
     "execution_count": 30,
     "metadata": {},
     "output_type": "execute_result"
    }
   ],
   "source": [
    "City_Light_employees['Job Title'].describe()"
   ]
  },
  {
   "cell_type": "markdown",
   "metadata": {},
   "source": [
    "### Question -- What is the average hourly salary earned at City Light?"
   ]
  },
  {
   "cell_type": "markdown",
   "metadata": {},
   "source": [
    "##### From the 'City_Light_employees' DataFrame index on 'Hourly Rate '. Apply the method -- mean() to find the average salary. Save that output to a variable called -- 'avg_City_Light_rate'"
   ]
  },
  {
   "cell_type": "code",
   "execution_count": 37,
   "metadata": {},
   "outputs": [],
   "source": [
    "avg_City_Light_rate = City_Light_employees['Hourly Rate '].mean()"
   ]
  },
  {
   "cell_type": "markdown",
   "metadata": {},
   "source": [
    "### Question -- How much more does the highest earning gov worker earn than the average City Light employee?"
   ]
  },
  {
   "cell_type": "code",
   "execution_count": 45,
   "metadata": {},
   "outputs": [
    {
     "data": {
      "text/plain": [
       "124.45930270270304"
      ]
     },
     "execution_count": 45,
     "metadata": {},
     "output_type": "execute_result"
    }
   ],
   "source": [
    "highest_wage - avg_City_Light_rate"
   ]
  },
  {
   "cell_type": "markdown",
   "metadata": {},
   "source": [
    "### Question -- How many other departments are there?"
   ]
  },
  {
   "cell_type": "markdown",
   "metadata": {},
   "source": [
    "##### From the wages DataFrame index on 'Departments'. Apply the method -- describe()."
   ]
  },
  {
   "cell_type": "code",
   "execution_count": 46,
   "metadata": {},
   "outputs": [
    {
     "data": {
      "text/plain": [
       "count                 12346\n",
       "unique                   36\n",
       "top       Police Department\n",
       "freq                   1966\n",
       "Name: Department, dtype: object"
      ]
     },
     "execution_count": 46,
     "metadata": {},
     "output_type": "execute_result"
    }
   ],
   "source": [
    "wages['Department'].describe()"
   ]
  },
  {
   "cell_type": "markdown",
   "metadata": {},
   "source": [
    "### Question -- How many positions are there in the Police Department? Which one earned the most and the least?"
   ]
  },
  {
   "cell_type": "markdown",
   "metadata": {},
   "source": [
    "##### From the wages DataFrame boolean index on 'Police Department'. Save the output to a variable called -- 'Police_Dept_employees'"
   ]
  },
  {
   "cell_type": "code",
   "execution_count": 58,
   "metadata": {},
   "outputs": [],
   "source": [
    "Police_Dept_employees = wages[wages['Department'] == 'Police Department']"
   ]
  },
  {
   "cell_type": "code",
   "execution_count": 60,
   "metadata": {},
   "outputs": [
    {
     "data": {
      "text/html": [
       "<div>\n",
       "<style scoped>\n",
       "    .dataframe tbody tr th:only-of-type {\n",
       "        vertical-align: middle;\n",
       "    }\n",
       "\n",
       "    .dataframe tbody tr th {\n",
       "        vertical-align: top;\n",
       "    }\n",
       "\n",
       "    .dataframe thead th {\n",
       "        text-align: right;\n",
       "    }\n",
       "</style>\n",
       "<table border=\"1\" class=\"dataframe\">\n",
       "  <thead>\n",
       "    <tr style=\"text-align: right;\">\n",
       "      <th></th>\n",
       "      <th>Department</th>\n",
       "      <th>Last Name</th>\n",
       "      <th>First Name</th>\n",
       "      <th>Job Title</th>\n",
       "      <th>Hourly Rate</th>\n",
       "    </tr>\n",
       "  </thead>\n",
       "  <tbody>\n",
       "    <tr>\n",
       "      <th>6110</th>\n",
       "      <td>Police Department</td>\n",
       "      <td>Aagard</td>\n",
       "      <td>Lori</td>\n",
       "      <td>Pol Sgt-Patrl</td>\n",
       "      <td>56.19</td>\n",
       "    </tr>\n",
       "    <tr>\n",
       "      <th>6111</th>\n",
       "      <td>Police Department</td>\n",
       "      <td>Aakervik</td>\n",
       "      <td>Dag</td>\n",
       "      <td>Pol Ofcr-Detective</td>\n",
       "      <td>50.38</td>\n",
       "    </tr>\n",
       "    <tr>\n",
       "      <th>6112</th>\n",
       "      <td>Police Department</td>\n",
       "      <td>Abdi</td>\n",
       "      <td>Habtamu</td>\n",
       "      <td>StratAdvsr2,Exempt</td>\n",
       "      <td>49.03</td>\n",
       "    </tr>\n",
       "    <tr>\n",
       "      <th>6113</th>\n",
       "      <td>Police Department</td>\n",
       "      <td>Abed</td>\n",
       "      <td>George</td>\n",
       "      <td>Pol Ofcr-Patrl</td>\n",
       "      <td>48.86</td>\n",
       "    </tr>\n",
       "    <tr>\n",
       "      <th>6114</th>\n",
       "      <td>Police Department</td>\n",
       "      <td>Abraha</td>\n",
       "      <td>Ytbarek</td>\n",
       "      <td>Parking Enf Ofcr</td>\n",
       "      <td>29.89</td>\n",
       "    </tr>\n",
       "  </tbody>\n",
       "</table>\n",
       "</div>"
      ],
      "text/plain": [
       "             Department Last Name First Name           Job Title  Hourly Rate \n",
       "6110  Police Department    Aagard       Lori       Pol Sgt-Patrl         56.19\n",
       "6111  Police Department  Aakervik        Dag  Pol Ofcr-Detective         50.38\n",
       "6112  Police Department      Abdi    Habtamu  StratAdvsr2,Exempt         49.03\n",
       "6113  Police Department      Abed     George      Pol Ofcr-Patrl         48.86\n",
       "6114  Police Department    Abraha    Ytbarek    Parking Enf Ofcr         29.89"
      ]
     },
     "execution_count": 60,
     "metadata": {},
     "output_type": "execute_result"
    }
   ],
   "source": [
    "Police_Dept_employees.head()"
   ]
  },
  {
   "cell_type": "markdown",
   "metadata": {},
   "source": [
    "#####  From the 'Police_Dept_employees' DataFrame, index on 'Job Title'. Use the describe method to get descriptive stats on the column, including how many unique values were there. "
   ]
  },
  {
   "cell_type": "code",
   "execution_count": 74,
   "metadata": {},
   "outputs": [
    {
     "ename": "AttributeError",
     "evalue": "'Series' object has no attribute 'descirbe'",
     "output_type": "error",
     "traceback": [
      "\u001b[0;31m---------------------------------------------------------------------------\u001b[0m",
      "\u001b[0;31mAttributeError\u001b[0m                            Traceback (most recent call last)",
      "\u001b[0;32m<ipython-input-74-850045527f35>\u001b[0m in \u001b[0;36m<module>\u001b[0;34m()\u001b[0m\n\u001b[0;32m----> 1\u001b[0;31m \u001b[0mPolice_Dept_employees\u001b[0m\u001b[0;34m[\u001b[0m\u001b[0;34m'Job Title'\u001b[0m\u001b[0;34m]\u001b[0m\u001b[0;34m.\u001b[0m\u001b[0mdescirbe\u001b[0m\u001b[0;34m(\u001b[0m\u001b[0;34m)\u001b[0m\u001b[0;34m\u001b[0m\u001b[0m\n\u001b[0m",
      "\u001b[0;32m~/anaconda3/lib/python3.6/site-packages/pandas/core/generic.py\u001b[0m in \u001b[0;36m__getattr__\u001b[0;34m(self, name)\u001b[0m\n\u001b[1;32m   3612\u001b[0m             \u001b[0;32mif\u001b[0m \u001b[0mname\u001b[0m \u001b[0;32min\u001b[0m \u001b[0mself\u001b[0m\u001b[0;34m.\u001b[0m\u001b[0m_info_axis\u001b[0m\u001b[0;34m:\u001b[0m\u001b[0;34m\u001b[0m\u001b[0m\n\u001b[1;32m   3613\u001b[0m                 \u001b[0;32mreturn\u001b[0m \u001b[0mself\u001b[0m\u001b[0;34m[\u001b[0m\u001b[0mname\u001b[0m\u001b[0;34m]\u001b[0m\u001b[0;34m\u001b[0m\u001b[0m\n\u001b[0;32m-> 3614\u001b[0;31m             \u001b[0;32mreturn\u001b[0m \u001b[0mobject\u001b[0m\u001b[0;34m.\u001b[0m\u001b[0m__getattribute__\u001b[0m\u001b[0;34m(\u001b[0m\u001b[0mself\u001b[0m\u001b[0;34m,\u001b[0m \u001b[0mname\u001b[0m\u001b[0;34m)\u001b[0m\u001b[0;34m\u001b[0m\u001b[0m\n\u001b[0m\u001b[1;32m   3615\u001b[0m \u001b[0;34m\u001b[0m\u001b[0m\n\u001b[1;32m   3616\u001b[0m     \u001b[0;32mdef\u001b[0m \u001b[0m__setattr__\u001b[0m\u001b[0;34m(\u001b[0m\u001b[0mself\u001b[0m\u001b[0;34m,\u001b[0m \u001b[0mname\u001b[0m\u001b[0;34m,\u001b[0m \u001b[0mvalue\u001b[0m\u001b[0;34m)\u001b[0m\u001b[0;34m:\u001b[0m\u001b[0;34m\u001b[0m\u001b[0m\n",
      "\u001b[0;31mAttributeError\u001b[0m: 'Series' object has no attribute 'descirbe'"
     ]
    }
   ],
   "source": [
    "Police_Dept_employees['Job Title'].descirbe()"
   ]
  },
  {
   "cell_type": "code",
   "execution_count": 69,
   "metadata": {},
   "outputs": [
    {
     "data": {
      "text/plain": [
       "count    1966.000000\n",
       "mean       43.954639\n",
       "std        11.697764\n",
       "min        16.120000\n",
       "25%        35.560000\n",
       "50%        44.950000\n",
       "75%        49.510000\n",
       "max       127.680000\n",
       "Name: Hourly Rate , dtype: float64"
      ]
     },
     "execution_count": 69,
     "metadata": {},
     "output_type": "execute_result"
    }
   ],
   "source": [
    "Police_Dept_employees['Hourly Rate '].describe()"
   ]
  },
  {
   "cell_type": "markdown",
   "metadata": {},
   "source": [
    "##### From the 'Police_Dept_employees' DataFrame index on the 'Hourly Rate ' column and apply the describe method."
   ]
  },
  {
   "cell_type": "code",
   "execution_count": 82,
   "metadata": {},
   "outputs": [
    {
     "data": {
      "text/html": [
       "<div>\n",
       "<style scoped>\n",
       "    .dataframe tbody tr th:only-of-type {\n",
       "        vertical-align: middle;\n",
       "    }\n",
       "\n",
       "    .dataframe tbody tr th {\n",
       "        vertical-align: top;\n",
       "    }\n",
       "\n",
       "    .dataframe thead th {\n",
       "        text-align: right;\n",
       "    }\n",
       "</style>\n",
       "<table border=\"1\" class=\"dataframe\">\n",
       "  <thead>\n",
       "    <tr style=\"text-align: right;\">\n",
       "      <th></th>\n",
       "      <th>Department</th>\n",
       "      <th>Last Name</th>\n",
       "      <th>First Name</th>\n",
       "      <th>Job Title</th>\n",
       "      <th>Hourly Rate</th>\n",
       "    </tr>\n",
       "  </thead>\n",
       "  <tbody>\n",
       "    <tr>\n",
       "      <th>7486</th>\n",
       "      <td>Police Department</td>\n",
       "      <td>OToole</td>\n",
       "      <td>Kathleen</td>\n",
       "      <td>Seattle Police Chief</td>\n",
       "      <td>127.68</td>\n",
       "    </tr>\n",
       "  </tbody>\n",
       "</table>\n",
       "</div>"
      ],
      "text/plain": [
       "             Department Last Name First Name             Job Title  \\\n",
       "7486  Police Department    OToole   Kathleen  Seattle Police Chief   \n",
       "\n",
       "      Hourly Rate   \n",
       "7486        127.68  "
      ]
     },
     "execution_count": 82,
     "metadata": {},
     "output_type": "execute_result"
    }
   ],
   "source": [
    "Police_Dept_employees[Police_Dept_employees['Hourly Rate '] == 127.680000]"
   ]
  },
  {
   "cell_type": "markdown",
   "metadata": {},
   "source": [
    "##### From the 'Police_Dept_employees' DataFrame, use boolean indexing to find who is earning the most money at the Police Department"
   ]
  },
  {
   "cell_type": "code",
   "execution_count": 81,
   "metadata": {},
   "outputs": [
    {
     "data": {
      "text/html": [
       "<div>\n",
       "<style scoped>\n",
       "    .dataframe tbody tr th:only-of-type {\n",
       "        vertical-align: middle;\n",
       "    }\n",
       "\n",
       "    .dataframe tbody tr th {\n",
       "        vertical-align: top;\n",
       "    }\n",
       "\n",
       "    .dataframe thead th {\n",
       "        text-align: right;\n",
       "    }\n",
       "</style>\n",
       "<table border=\"1\" class=\"dataframe\">\n",
       "  <thead>\n",
       "    <tr style=\"text-align: right;\">\n",
       "      <th></th>\n",
       "      <th>Department</th>\n",
       "      <th>Last Name</th>\n",
       "      <th>First Name</th>\n",
       "      <th>Job Title</th>\n",
       "      <th>Hourly Rate</th>\n",
       "    </tr>\n",
       "  </thead>\n",
       "  <tbody>\n",
       "    <tr>\n",
       "      <th>6192</th>\n",
       "      <td>Police Department</td>\n",
       "      <td>Bani Yaseen</td>\n",
       "      <td>Aissar</td>\n",
       "      <td>Cooperative Intern *</td>\n",
       "      <td>16.12</td>\n",
       "    </tr>\n",
       "  </tbody>\n",
       "</table>\n",
       "</div>"
      ],
      "text/plain": [
       "             Department    Last Name First Name             Job Title  \\\n",
       "6192  Police Department  Bani Yaseen     Aissar  Cooperative Intern *   \n",
       "\n",
       "      Hourly Rate   \n",
       "6192         16.12  "
      ]
     },
     "execution_count": 81,
     "metadata": {},
     "output_type": "execute_result"
    }
   ],
   "source": [
    "Police_Dept_employees[Police_Dept_employees['Hourly Rate '] == Police_Dept_employees['Hourly Rate '].min()]"
   ]
  },
  {
   "cell_type": "markdown",
   "metadata": {},
   "source": [
    "##### From the 'Police_Dept_employees' DataFrame, use boolean indexing to find who is earning the least money at the Police Department"
   ]
  },
  {
   "cell_type": "code",
   "execution_count": 83,
   "metadata": {},
   "outputs": [
    {
     "data": {
      "text/html": [
       "<div>\n",
       "<style scoped>\n",
       "    .dataframe tbody tr th:only-of-type {\n",
       "        vertical-align: middle;\n",
       "    }\n",
       "\n",
       "    .dataframe tbody tr th {\n",
       "        vertical-align: top;\n",
       "    }\n",
       "\n",
       "    .dataframe thead th {\n",
       "        text-align: right;\n",
       "    }\n",
       "</style>\n",
       "<table border=\"1\" class=\"dataframe\">\n",
       "  <thead>\n",
       "    <tr style=\"text-align: right;\">\n",
       "      <th></th>\n",
       "      <th>Department</th>\n",
       "      <th>Last Name</th>\n",
       "      <th>First Name</th>\n",
       "      <th>Job Title</th>\n",
       "      <th>Hourly Rate</th>\n",
       "    </tr>\n",
       "  </thead>\n",
       "  <tbody>\n",
       "    <tr>\n",
       "      <th>6192</th>\n",
       "      <td>Police Department</td>\n",
       "      <td>Bani Yaseen</td>\n",
       "      <td>Aissar</td>\n",
       "      <td>Cooperative Intern *</td>\n",
       "      <td>16.12</td>\n",
       "    </tr>\n",
       "  </tbody>\n",
       "</table>\n",
       "</div>"
      ],
      "text/plain": [
       "             Department    Last Name First Name             Job Title  \\\n",
       "6192  Police Department  Bani Yaseen     Aissar  Cooperative Intern *   \n",
       "\n",
       "      Hourly Rate   \n",
       "6192         16.12  "
      ]
     },
     "execution_count": 83,
     "metadata": {},
     "output_type": "execute_result"
    }
   ],
   "source": [
    "Police_Dept_employees[Police_Dept_employees['Hourly Rate '] == 16.12]\n"
   ]
  },
  {
   "cell_type": "markdown",
   "metadata": {},
   "source": [
    "## Pivot Tables"
   ]
  },
  {
   "cell_type": "markdown",
   "metadata": {},
   "source": [
    "##### Generate a pivot table -- index on Department and Job Title, use Hourly Rate for the value(s). Save pivot table to varaible called 'wages_pivot'"
   ]
  },
  {
   "cell_type": "code",
   "execution_count": null,
   "metadata": {},
   "outputs": [],
   "source": []
  },
  {
   "cell_type": "markdown",
   "metadata": {},
   "source": [
    "##### Index the pivot table for jobs and the hourly rates in the Arts and Culture department. Save the output to a variable."
   ]
  },
  {
   "cell_type": "code",
   "execution_count": null,
   "metadata": {},
   "outputs": [],
   "source": [
    "wages_pivot[wages_pivot.index.get_level_values('Department') == 'Arts and Culture']"
   ]
  },
  {
   "cell_type": "code",
   "execution_count": 62,
   "metadata": {},
   "outputs": [],
   "source": [
    "ArtsAndCulture = wages_pivot[wages_pivot.index.get_level_values('Department') == 'Arts and Culture']"
   ]
  },
  {
   "cell_type": "code",
   "execution_count": null,
   "metadata": {},
   "outputs": [],
   "source": []
  },
  {
   "cell_type": "markdown",
   "metadata": {},
   "source": [
    "##### Index the pivot table for jobs and the hourly rates in the City Light department. Save the output to a variable."
   ]
  },
  {
   "cell_type": "code",
   "execution_count": null,
   "metadata": {},
   "outputs": [],
   "source": []
  },
  {
   "cell_type": "code",
   "execution_count": null,
   "metadata": {},
   "outputs": [],
   "source": []
  },
  {
   "cell_type": "markdown",
   "metadata": {},
   "source": [
    "## Graphing"
   ]
  },
  {
   "cell_type": "markdown",
   "metadata": {},
   "source": [
    "##### How many people work in the Arts and Culture department?"
   ]
  },
  {
   "cell_type": "code",
   "execution_count": null,
   "metadata": {},
   "outputs": [],
   "source": [
    "ArtsAndCulture['Hourly Rate '].count()"
   ]
  },
  {
   "cell_type": "markdown",
   "metadata": {},
   "source": [
    "##### Generate a histgram of the wages of employees in the Arts and Culture department."
   ]
  },
  {
   "cell_type": "code",
   "execution_count": null,
   "metadata": {},
   "outputs": [],
   "source": [
    "ArtsAndCulture.hist()"
   ]
  },
  {
   "cell_type": "markdown",
   "metadata": {},
   "source": [
    "##### How many people work in the City Light department?"
   ]
  },
  {
   "cell_type": "code",
   "execution_count": null,
   "metadata": {},
   "outputs": [],
   "source": []
  },
  {
   "cell_type": "markdown",
   "metadata": {},
   "source": [
    "##### Generate a histgram of the wages of employees in the City Light department."
   ]
  },
  {
   "cell_type": "code",
   "execution_count": null,
   "metadata": {},
   "outputs": [],
   "source": []
  },
  {
   "cell_type": "markdown",
   "metadata": {},
   "source": [
    "## Exporting"
   ]
  },
  {
   "cell_type": "markdown",
   "metadata": {},
   "source": [
    "##### Find the present working directory."
   ]
  },
  {
   "cell_type": "code",
   "execution_count": null,
   "metadata": {},
   "outputs": [],
   "source": []
  },
  {
   "cell_type": "markdown",
   "metadata": {},
   "source": [
    "##### Export the data in an excel file. The file will be saved in the present working directory."
   ]
  },
  {
   "cell_type": "code",
   "execution_count": null,
   "metadata": {},
   "outputs": [],
   "source": [
    "CityLight.to_excel('PythonPandasOutput.xlsx', sheet_name='Analysis')"
   ]
  }
 ],
 "metadata": {
  "kernelspec": {
   "display_name": "Python 3",
   "language": "python",
   "name": "python3"
  },
  "language_info": {
   "codemirror_mode": {
    "name": "ipython",
    "version": 3
   },
   "file_extension": ".py",
   "mimetype": "text/x-python",
   "name": "python",
   "nbconvert_exporter": "python",
   "pygments_lexer": "ipython3",
   "version": "3.6.4"
  }
 },
 "nbformat": 4,
 "nbformat_minor": 2
}
