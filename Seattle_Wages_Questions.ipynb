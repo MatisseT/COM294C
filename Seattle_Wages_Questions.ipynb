{
 "cells": [
  {
   "cell_type": "markdown",
   "metadata": {},
   "source": [
    "# Imports / Dependencies"
   ]
  },
  {
   "cell_type": "markdown",
   "metadata": {},
   "source": [
    "##### Import any dependencies -- Python libraries"
   ]
  },
  {
   "cell_type": "code",
   "execution_count": 1,
   "metadata": {},
   "outputs": [],
   "source": [
    "import pandas as pd"
   ]
  },
  {
   "cell_type": "markdown",
   "metadata": {},
   "source": [
    "##### Read in the dataset, and assign it to a variable"
   ]
  },
  {
   "cell_type": "code",
   "execution_count": 2,
   "metadata": {},
   "outputs": [],
   "source": [
    "wages = pd.read_csv('Seattle_Wages_Data.csv')"
   ]
  },
  {
   "cell_type": "markdown",
   "metadata": {},
   "source": [
    "# Get a sense of the data"
   ]
  },
  {
   "cell_type": "markdown",
   "metadata": {},
   "source": [
    "##### How many rows and columns are in the dataset? -- Hint : Use the shape attribute"
   ]
  },
  {
   "cell_type": "code",
   "execution_count": 3,
   "metadata": {},
   "outputs": [
    {
     "data": {
      "text/plain": [
       "Index(['Department', 'Last Name', 'First Name', 'Job Title', 'Hourly Rate '], dtype='object')"
      ]
     },
     "execution_count": 3,
     "metadata": {},
     "output_type": "execute_result"
    }
   ],
   "source": [
    "wages.columns"
   ]
  },
  {
   "cell_type": "markdown",
   "metadata": {},
   "source": [
    "##### Get the first five rows of the dataset -- Hint : Use the head() method"
   ]
  },
  {
   "cell_type": "code",
   "execution_count": 6,
   "metadata": {},
   "outputs": [
    {
     "data": {
      "text/html": [
       "<div>\n",
       "<style scoped>\n",
       "    .dataframe tbody tr th:only-of-type {\n",
       "        vertical-align: middle;\n",
       "    }\n",
       "\n",
       "    .dataframe tbody tr th {\n",
       "        vertical-align: top;\n",
       "    }\n",
       "\n",
       "    .dataframe thead th {\n",
       "        text-align: right;\n",
       "    }\n",
       "</style>\n",
       "<table border=\"1\" class=\"dataframe\">\n",
       "  <thead>\n",
       "    <tr style=\"text-align: right;\">\n",
       "      <th></th>\n",
       "      <th>Department</th>\n",
       "      <th>Last Name</th>\n",
       "      <th>First Name</th>\n",
       "      <th>Job Title</th>\n",
       "      <th>Hourly Rate</th>\n",
       "    </tr>\n",
       "  </thead>\n",
       "  <tbody>\n",
       "    <tr>\n",
       "      <th>0</th>\n",
       "      <td>Arts and Culture</td>\n",
       "      <td>Boas-Du Pree</td>\n",
       "      <td>Sandra</td>\n",
       "      <td>Admin Staff Asst</td>\n",
       "      <td>34.48</td>\n",
       "    </tr>\n",
       "    <tr>\n",
       "      <th>1</th>\n",
       "      <td>Arts and Culture</td>\n",
       "      <td>Bolisay</td>\n",
       "      <td>Ronald</td>\n",
       "      <td>Publc Relations Spec</td>\n",
       "      <td>29.09</td>\n",
       "    </tr>\n",
       "    <tr>\n",
       "      <th>2</th>\n",
       "      <td>Arts and Culture</td>\n",
       "      <td>Chai</td>\n",
       "      <td>Grace</td>\n",
       "      <td>Cooperative Intern *</td>\n",
       "      <td>16.12</td>\n",
       "    </tr>\n",
       "    <tr>\n",
       "      <th>3</th>\n",
       "      <td>Arts and Culture</td>\n",
       "      <td>Childers</td>\n",
       "      <td>Calandra</td>\n",
       "      <td>StratAdvsr3,Exempt</td>\n",
       "      <td>48.71</td>\n",
       "    </tr>\n",
       "    <tr>\n",
       "      <th>4</th>\n",
       "      <td>Arts and Culture</td>\n",
       "      <td>Crooks</td>\n",
       "      <td>Jennifer</td>\n",
       "      <td>Arts Prgm Spec</td>\n",
       "      <td>35.93</td>\n",
       "    </tr>\n",
       "  </tbody>\n",
       "</table>\n",
       "</div>"
      ],
      "text/plain": [
       "         Department     Last Name First Name             Job Title  \\\n",
       "0  Arts and Culture  Boas-Du Pree     Sandra      Admin Staff Asst   \n",
       "1  Arts and Culture       Bolisay     Ronald  Publc Relations Spec   \n",
       "2  Arts and Culture          Chai      Grace  Cooperative Intern *   \n",
       "3  Arts and Culture      Childers   Calandra    StratAdvsr3,Exempt   \n",
       "4  Arts and Culture        Crooks   Jennifer        Arts Prgm Spec   \n",
       "\n",
       "   Hourly Rate   \n",
       "0         34.48  \n",
       "1         29.09  \n",
       "2         16.12  \n",
       "3         48.71  \n",
       "4         35.93  "
      ]
     },
     "execution_count": 6,
     "metadata": {},
     "output_type": "execute_result"
    }
   ],
   "source": [
    "wages.head()"
   ]
  },
  {
   "cell_type": "markdown",
   "metadata": {},
   "source": [
    "##### Get the last five rows of the dataset -- Hint : Use the tail() method"
   ]
  },
  {
   "cell_type": "code",
   "execution_count": 7,
   "metadata": {},
   "outputs": [
    {
     "data": {
      "text/html": [
       "<div>\n",
       "<style scoped>\n",
       "    .dataframe tbody tr th:only-of-type {\n",
       "        vertical-align: middle;\n",
       "    }\n",
       "\n",
       "    .dataframe tbody tr th {\n",
       "        vertical-align: top;\n",
       "    }\n",
       "\n",
       "    .dataframe thead th {\n",
       "        text-align: right;\n",
       "    }\n",
       "</style>\n",
       "<table border=\"1\" class=\"dataframe\">\n",
       "  <thead>\n",
       "    <tr style=\"text-align: right;\">\n",
       "      <th></th>\n",
       "      <th>Department</th>\n",
       "      <th>Last Name</th>\n",
       "      <th>First Name</th>\n",
       "      <th>Job Title</th>\n",
       "      <th>Hourly Rate</th>\n",
       "    </tr>\n",
       "  </thead>\n",
       "  <tbody>\n",
       "    <tr>\n",
       "      <th>12341</th>\n",
       "      <td>Seattle Public Utilities</td>\n",
       "      <td>Zemmerman</td>\n",
       "      <td>Ahanu</td>\n",
       "      <td>Maint Laborer</td>\n",
       "      <td>25.39</td>\n",
       "    </tr>\n",
       "    <tr>\n",
       "      <th>12342</th>\n",
       "      <td>Seattle Public Utilities</td>\n",
       "      <td>Zoellmer</td>\n",
       "      <td>Adam</td>\n",
       "      <td>Trng&amp;Ed Coord,Sr</td>\n",
       "      <td>37.94</td>\n",
       "    </tr>\n",
       "    <tr>\n",
       "      <th>12343</th>\n",
       "      <td>Seattle Public Utilities</td>\n",
       "      <td>Zollman</td>\n",
       "      <td>Karen</td>\n",
       "      <td>Civil Engrng Spec,Sr</td>\n",
       "      <td>48.84</td>\n",
       "    </tr>\n",
       "    <tr>\n",
       "      <th>12344</th>\n",
       "      <td>Seattle Public Utilities</td>\n",
       "      <td>Zurowski</td>\n",
       "      <td>Allan</td>\n",
       "      <td>Carpenter</td>\n",
       "      <td>32.88</td>\n",
       "    </tr>\n",
       "    <tr>\n",
       "      <th>12345</th>\n",
       "      <td>Seattle Public Utilities</td>\n",
       "      <td>Zuver</td>\n",
       "      <td>Glen</td>\n",
       "      <td>Constr&amp;Maint Equip Op,Sr</td>\n",
       "      <td>34.75</td>\n",
       "    </tr>\n",
       "  </tbody>\n",
       "</table>\n",
       "</div>"
      ],
      "text/plain": [
       "                     Department  Last Name First Name  \\\n",
       "12341  Seattle Public Utilities  Zemmerman      Ahanu   \n",
       "12342  Seattle Public Utilities   Zoellmer       Adam   \n",
       "12343  Seattle Public Utilities    Zollman      Karen   \n",
       "12344  Seattle Public Utilities   Zurowski      Allan   \n",
       "12345  Seattle Public Utilities      Zuver       Glen   \n",
       "\n",
       "                      Job Title  Hourly Rate   \n",
       "12341             Maint Laborer         25.39  \n",
       "12342          Trng&Ed Coord,Sr         37.94  \n",
       "12343      Civil Engrng Spec,Sr         48.84  \n",
       "12344                 Carpenter         32.88  \n",
       "12345  Constr&Maint Equip Op,Sr         34.75  "
      ]
     },
     "execution_count": 7,
     "metadata": {},
     "output_type": "execute_result"
    }
   ],
   "source": [
    "wages.tail()"
   ]
  },
  {
   "cell_type": "markdown",
   "metadata": {},
   "source": [
    "##### Get the dataset's column names and datatypes -- Hint : Use the info() method"
   ]
  },
  {
   "cell_type": "code",
   "execution_count": 8,
   "metadata": {},
   "outputs": [
    {
     "name": "stdout",
     "output_type": "stream",
     "text": [
      "<class 'pandas.core.frame.DataFrame'>\n",
      "RangeIndex: 12346 entries, 0 to 12345\n",
      "Data columns (total 5 columns):\n",
      "Department      12346 non-null object\n",
      "Last Name       12346 non-null object\n",
      "First Name      12346 non-null object\n",
      "Job Title       12346 non-null object\n",
      "Hourly Rate     12346 non-null float64\n",
      "dtypes: float64(1), object(4)\n",
      "memory usage: 482.3+ KB\n"
     ]
    }
   ],
   "source": [
    "wages.info()"
   ]
  },
  {
   "cell_type": "markdown",
   "metadata": {},
   "source": [
    "##### Get summary statistics of the dataset -- Hint : Use the describe() method"
   ]
  },
  {
   "cell_type": "code",
   "execution_count": 9,
   "metadata": {},
   "outputs": [
    {
     "data": {
      "text/html": [
       "<div>\n",
       "<style scoped>\n",
       "    .dataframe tbody tr th:only-of-type {\n",
       "        vertical-align: middle;\n",
       "    }\n",
       "\n",
       "    .dataframe tbody tr th {\n",
       "        vertical-align: top;\n",
       "    }\n",
       "\n",
       "    .dataframe thead th {\n",
       "        text-align: right;\n",
       "    }\n",
       "</style>\n",
       "<table border=\"1\" class=\"dataframe\">\n",
       "  <thead>\n",
       "    <tr style=\"text-align: right;\">\n",
       "      <th></th>\n",
       "      <th>Hourly Rate</th>\n",
       "    </tr>\n",
       "  </thead>\n",
       "  <tbody>\n",
       "    <tr>\n",
       "      <th>count</th>\n",
       "      <td>12346.000000</td>\n",
       "    </tr>\n",
       "    <tr>\n",
       "      <th>mean</th>\n",
       "      <td>38.974306</td>\n",
       "    </tr>\n",
       "    <tr>\n",
       "      <th>std</th>\n",
       "      <td>13.724498</td>\n",
       "    </tr>\n",
       "    <tr>\n",
       "      <th>min</th>\n",
       "      <td>5.110000</td>\n",
       "    </tr>\n",
       "    <tr>\n",
       "      <th>25%</th>\n",
       "      <td>28.830000</td>\n",
       "    </tr>\n",
       "    <tr>\n",
       "      <th>50%</th>\n",
       "      <td>38.850000</td>\n",
       "    </tr>\n",
       "    <tr>\n",
       "      <th>75%</th>\n",
       "      <td>48.430000</td>\n",
       "    </tr>\n",
       "    <tr>\n",
       "      <th>max</th>\n",
       "      <td>166.910000</td>\n",
       "    </tr>\n",
       "  </tbody>\n",
       "</table>\n",
       "</div>"
      ],
      "text/plain": [
       "       Hourly Rate \n",
       "count  12346.000000\n",
       "mean      38.974306\n",
       "std       13.724498\n",
       "min        5.110000\n",
       "25%       28.830000\n",
       "50%       38.850000\n",
       "75%       48.430000\n",
       "max      166.910000"
      ]
     },
     "execution_count": 9,
     "metadata": {},
     "output_type": "execute_result"
    }
   ],
   "source": [
    "wages.describe()"
   ]
  },
  {
   "cell_type": "markdown",
   "metadata": {},
   "source": [
    "# Data cleaning"
   ]
  },
  {
   "cell_type": "markdown",
   "metadata": {},
   "source": [
    "##### Sort the dataset (from the highest wages to lowest) -- Hint : Use the sort_values() method"
   ]
  },
  {
   "cell_type": "code",
   "execution_count": 15,
   "metadata": {},
   "outputs": [
    {
     "data": {
      "text/plain": [
       "1879     166.91\n",
       "11455    134.10\n",
       "7486     127.68\n",
       "199      116.54\n",
       "959      111.24\n",
       "101      109.74\n",
       "1960     109.58\n",
       "3554     107.84\n",
       "103      107.07\n",
       "824      105.00\n",
       "1312     103.38\n",
       "3058     102.08\n",
       "2871     102.08\n",
       "3661     102.08\n",
       "2990     102.07\n",
       "6244      99.55\n",
       "7261      99.55\n",
       "91        98.66\n",
       "941       96.97\n",
       "8010      96.66\n",
       "7313      96.66\n",
       "7842      96.66\n",
       "6449      96.66\n",
       "1066      95.79\n",
       "4572      95.14\n",
       "609       93.88\n",
       "4338      93.48\n",
       "2464      93.15\n",
       "9791      91.94\n",
       "1798      91.21\n",
       "          ...  \n",
       "5591      15.00\n",
       "6022      15.00\n",
       "5415      15.00\n",
       "3842      15.00\n",
       "3953      15.00\n",
       "3837      15.00\n",
       "5238      15.00\n",
       "3880      15.00\n",
       "4946      15.00\n",
       "3834      15.00\n",
       "3936      15.00\n",
       "4609      15.00\n",
       "3876      15.00\n",
       "3927      15.00\n",
       "3942      15.00\n",
       "3943      15.00\n",
       "3948      15.00\n",
       "5248      15.00\n",
       "4989      15.00\n",
       "1967       5.53\n",
       "1968       5.53\n",
       "1971       5.53\n",
       "1973       5.53\n",
       "1974       5.53\n",
       "1969       5.53\n",
       "4254       5.11\n",
       "4258       5.11\n",
       "4238       5.11\n",
       "4236       5.11\n",
       "4225       5.11\n",
       "Name: Hourly Rate , Length: 12346, dtype: float64"
      ]
     },
     "execution_count": 15,
     "metadata": {},
     "output_type": "execute_result"
    }
   ],
   "source": [
    "wages['Hourly Rate '].sort_values(ascending=False)"
   ]
  },
  {
   "cell_type": "markdown",
   "metadata": {},
   "source": [
    "# Querying the data"
   ]
  },
  {
   "cell_type": "markdown",
   "metadata": {},
   "source": [
    "##### How many jobs are there in the dataset? -- Hint : Use the describe() method after indexing on 'Job Title'"
   ]
  },
  {
   "cell_type": "code",
   "execution_count": 19,
   "metadata": {},
   "outputs": [
    {
     "ename": "SyntaxError",
     "evalue": "invalid syntax (<ipython-input-19-6734a053725c>, line 1)",
     "output_type": "error",
     "traceback": [
      "\u001b[0;36m  File \u001b[0;32m\"<ipython-input-19-6734a053725c>\"\u001b[0;36m, line \u001b[0;32m1\u001b[0m\n\u001b[0;31m    wages.info(Job Title)\u001b[0m\n\u001b[0m                       ^\u001b[0m\n\u001b[0;31mSyntaxError\u001b[0m\u001b[0;31m:\u001b[0m invalid syntax\n"
     ]
    }
   ],
   "source": [
    "wages.info(Job Title)"
   ]
  },
  {
   "cell_type": "markdown",
   "metadata": {},
   "source": [
    "##### What is the highest salary? Save that output to a variable -- 'wage_max'. -- Hint : Use the max() method"
   ]
  },
  {
   "cell_type": "code",
   "execution_count": 20,
   "metadata": {},
   "outputs": [],
   "source": [
    "wage_max = wages['Hourly Rate '].max()"
   ]
  },
  {
   "cell_type": "markdown",
   "metadata": {},
   "source": [
    "##### Who is the highest earning individual in the dataset? -- Hint : Use boolean indexing for the max 'Hourly Rate ' value"
   ]
  },
  {
   "cell_type": "code",
   "execution_count": 22,
   "metadata": {},
   "outputs": [
    {
     "data": {
      "text/html": [
       "<div>\n",
       "<style scoped>\n",
       "    .dataframe tbody tr th:only-of-type {\n",
       "        vertical-align: middle;\n",
       "    }\n",
       "\n",
       "    .dataframe tbody tr th {\n",
       "        vertical-align: top;\n",
       "    }\n",
       "\n",
       "    .dataframe thead th {\n",
       "        text-align: right;\n",
       "    }\n",
       "</style>\n",
       "<table border=\"1\" class=\"dataframe\">\n",
       "  <thead>\n",
       "    <tr style=\"text-align: right;\">\n",
       "      <th></th>\n",
       "      <th>Department</th>\n",
       "      <th>Last Name</th>\n",
       "      <th>First Name</th>\n",
       "      <th>Job Title</th>\n",
       "      <th>Hourly Rate</th>\n",
       "    </tr>\n",
       "  </thead>\n",
       "  <tbody>\n",
       "    <tr>\n",
       "      <th>1879</th>\n",
       "      <td>City Light</td>\n",
       "      <td>Weis</td>\n",
       "      <td>Larry</td>\n",
       "      <td>City Light General Mgr&amp;CEO</td>\n",
       "      <td>166.91</td>\n",
       "    </tr>\n",
       "  </tbody>\n",
       "</table>\n",
       "</div>"
      ],
      "text/plain": [
       "      Department Last Name First Name                   Job Title  \\\n",
       "1879  City Light      Weis      Larry  City Light General Mgr&CEO   \n",
       "\n",
       "      Hourly Rate   \n",
       "1879        166.91  "
      ]
     },
     "execution_count": 22,
     "metadata": {},
     "output_type": "execute_result"
    }
   ],
   "source": [
    "wages[wages['Hourly Rate '] == wage_max]"
   ]
  },
  {
   "cell_type": "markdown",
   "metadata": {},
   "source": [
    "##### How many people work at the highest earning indivdiual's department? -- Hint : Use the count() method"
   ]
  },
  {
   "cell_type": "code",
   "execution_count": 25,
   "metadata": {},
   "outputs": [],
   "source": [
    "City_Light_employees = wages[wages['Department'] == 'City Light']"
   ]
  },
  {
   "cell_type": "code",
   "execution_count": 27,
   "metadata": {},
   "outputs": [
    {
     "data": {
      "text/plain": [
       "Department      1850\n",
       "Last Name       1850\n",
       "First Name      1850\n",
       "Job Title       1850\n",
       "Hourly Rate     1850\n",
       "dtype: int64"
      ]
     },
     "execution_count": 27,
     "metadata": {},
     "output_type": "execute_result"
    }
   ],
   "source": [
    "City_Light_employees.count()"
   ]
  },
  {
   "cell_type": "markdown",
   "metadata": {},
   "source": [
    "##### What is the lowest salary? Save that output to a variable -- 'wage_low'. -- Hint : Use the min() method"
   ]
  },
  {
   "cell_type": "code",
   "execution_count": 30,
   "metadata": {},
   "outputs": [],
   "source": [
    "wage_low = [wages['Hourly Rate '].min()]"
   ]
  },
  {
   "cell_type": "code",
   "execution_count": 31,
   "metadata": {},
   "outputs": [
    {
     "data": {
      "text/plain": [
       "[5.11]"
      ]
     },
     "execution_count": 31,
     "metadata": {},
     "output_type": "execute_result"
    }
   ],
   "source": [
    "wage_low"
   ]
  },
  {
   "cell_type": "code",
   "execution_count": null,
   "metadata": {},
   "outputs": [],
   "source": []
  },
  {
   "cell_type": "markdown",
   "metadata": {},
   "source": [
    "##### Who is the lowest earning individual in the dataset? -- Hint : Use boolean indexing for the min 'Hourly Rate ' value"
   ]
  },
  {
   "cell_type": "code",
   "execution_count": 32,
   "metadata": {},
   "outputs": [
    {
     "data": {
      "text/html": [
       "<div>\n",
       "<style scoped>\n",
       "    .dataframe tbody tr th:only-of-type {\n",
       "        vertical-align: middle;\n",
       "    }\n",
       "\n",
       "    .dataframe tbody tr th {\n",
       "        vertical-align: top;\n",
       "    }\n",
       "\n",
       "    .dataframe thead th {\n",
       "        text-align: right;\n",
       "    }\n",
       "</style>\n",
       "<table border=\"1\" class=\"dataframe\">\n",
       "  <thead>\n",
       "    <tr style=\"text-align: right;\">\n",
       "      <th></th>\n",
       "      <th>Department</th>\n",
       "      <th>Last Name</th>\n",
       "      <th>First Name</th>\n",
       "      <th>Job Title</th>\n",
       "      <th>Hourly Rate</th>\n",
       "    </tr>\n",
       "  </thead>\n",
       "  <tbody>\n",
       "    <tr>\n",
       "      <th>4225</th>\n",
       "      <td>Legislative-City Council</td>\n",
       "      <td>Felder</td>\n",
       "      <td>Donald</td>\n",
       "      <td>OPA Review Board Member</td>\n",
       "      <td>5.11</td>\n",
       "    </tr>\n",
       "    <tr>\n",
       "      <th>4236</th>\n",
       "      <td>Legislative-City Council</td>\n",
       "      <td>Hawe</td>\n",
       "      <td>William</td>\n",
       "      <td>OPA Review Board Member</td>\n",
       "      <td>5.11</td>\n",
       "    </tr>\n",
       "    <tr>\n",
       "      <th>4238</th>\n",
       "      <td>Legislative-City Council</td>\n",
       "      <td>Holohan</td>\n",
       "      <td>Elizabeth</td>\n",
       "      <td>OPA Review Board Member</td>\n",
       "      <td>5.11</td>\n",
       "    </tr>\n",
       "    <tr>\n",
       "      <th>4254</th>\n",
       "      <td>Legislative-City Council</td>\n",
       "      <td>Levytsky</td>\n",
       "      <td>John</td>\n",
       "      <td>OPA Review Board Member</td>\n",
       "      <td>5.11</td>\n",
       "    </tr>\n",
       "    <tr>\n",
       "      <th>4258</th>\n",
       "      <td>Legislative-City Council</td>\n",
       "      <td>Marks</td>\n",
       "      <td>Alfred</td>\n",
       "      <td>OPA Review Board Member</td>\n",
       "      <td>5.11</td>\n",
       "    </tr>\n",
       "  </tbody>\n",
       "</table>\n",
       "</div>"
      ],
      "text/plain": [
       "                    Department Last Name First Name                Job Title  \\\n",
       "4225  Legislative-City Council    Felder     Donald  OPA Review Board Member   \n",
       "4236  Legislative-City Council      Hawe    William  OPA Review Board Member   \n",
       "4238  Legislative-City Council   Holohan  Elizabeth  OPA Review Board Member   \n",
       "4254  Legislative-City Council  Levytsky       John  OPA Review Board Member   \n",
       "4258  Legislative-City Council     Marks     Alfred  OPA Review Board Member   \n",
       "\n",
       "      Hourly Rate   \n",
       "4225          5.11  \n",
       "4236          5.11  \n",
       "4238          5.11  \n",
       "4254          5.11  \n",
       "4258          5.11  "
      ]
     },
     "execution_count": 32,
     "metadata": {},
     "output_type": "execute_result"
    }
   ],
   "source": [
    "wages[wages['Hourly Rate '] == wage_low]"
   ]
  },
  {
   "cell_type": "markdown",
   "metadata": {},
   "source": [
    "##### How many people work at the lowest earning indivdiual's department? -- Hint: Use the count() method"
   ]
  },
  {
   "cell_type": "code",
   "execution_count": 36,
   "metadata": {},
   "outputs": [
    {
     "data": {
      "text/plain": [
       "Department      106\n",
       "Last Name       106\n",
       "First Name      106\n",
       "Job Title       106\n",
       "Hourly Rate     106\n",
       "dtype: int64"
      ]
     },
     "execution_count": 36,
     "metadata": {},
     "output_type": "execute_result"
    }
   ],
   "source": [
    "Legislative_City_Council = wages[wages['Department'] == 'Legislative-City Council']\n",
    "Legislative_City_Council.count()"
   ]
  },
  {
   "cell_type": "markdown",
   "metadata": {},
   "source": [
    "##### What is the difference between the highest earning and lowest earning individuals?"
   ]
  },
  {
   "cell_type": "code",
   "execution_count": 37,
   "metadata": {},
   "outputs": [
    {
     "data": {
      "text/plain": [
       "array([161.8])"
      ]
     },
     "execution_count": 37,
     "metadata": {},
     "output_type": "execute_result"
    }
   ],
   "source": [
    "wage_max - wage_low"
   ]
  },
  {
   "cell_type": "markdown",
   "metadata": {},
   "source": [
    "# Stop Point!"
   ]
  },
  {
   "cell_type": "code",
   "execution_count": null,
   "metadata": {},
   "outputs": [],
   "source": []
  },
  {
   "cell_type": "code",
   "execution_count": null,
   "metadata": {},
   "outputs": [],
   "source": []
  }
 ],
 "metadata": {
  "kernelspec": {
   "display_name": "Python 3",
   "language": "python",
   "name": "python3"
  },
  "language_info": {
   "codemirror_mode": {
    "name": "ipython",
    "version": 3
   },
   "file_extension": ".py",
   "mimetype": "text/x-python",
   "name": "python",
   "nbconvert_exporter": "python",
   "pygments_lexer": "ipython3",
   "version": "3.6.4"
  }
 },
 "nbformat": 4,
 "nbformat_minor": 2
}
